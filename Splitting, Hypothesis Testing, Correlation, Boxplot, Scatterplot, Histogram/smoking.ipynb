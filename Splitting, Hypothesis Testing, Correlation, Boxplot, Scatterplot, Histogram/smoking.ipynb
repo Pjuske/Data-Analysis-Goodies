{
 "cells": [
  {
   "cell_type": "code",
   "execution_count": 11,
   "metadata": {
    "collapsed": true
   },
   "outputs": [],
   "source": [
    "from __future__ import division\n",
    "import numpy as np\n",
    "import matplotlib.pyplot as plt\n",
    "%matplotlib inline\n",
    "import scipy.stats\n",
    "\n",
    "data = np.loadtxt('smoking.txt')"
   ]
  },
  {
   "cell_type": "code",
   "execution_count": 12,
   "metadata": {
    "collapsed": true
   },
   "outputs": [],
   "source": [
    "#Exercise 1\n",
    "def getFEV1(data):\n",
    "    smokers = np.array([data[i,:] for i, x in enumerate(data[:,4]) if x == 1])\n",
    "    nonsmokers = np.array([data[i,:] for i, x in enumerate(data[:,4]) if x == 0])\n",
    "    \n",
    "    smokers_FEV1 = smokers[:,1]\n",
    "    nonsmokers_FEV1 = nonsmokers[:,1]\n",
    "\n",
    "    return smokers_FEV1, nonsmokers_FEV1\n",
    "\n",
    "def meanFEV1(data):\n",
    "    smokers, nonsmokers = getFEV1(data)\n",
    "    \n",
    "    return (np.mean(smokers), np.mean(nonsmokers))"
   ]
  },
  {
   "cell_type": "code",
   "execution_count": 13,
   "metadata": {},
   "outputs": [
    {
     "data": {
      "text/plain": [
       "(3.2768615384615383, 2.5661426146010187)"
      ]
     },
     "execution_count": 13,
     "metadata": {},
     "output_type": "execute_result"
    }
   ],
   "source": [
    "meanFEV1(data)"
   ]
  },
  {
   "cell_type": "code",
   "execution_count": 14,
   "metadata": {},
   "outputs": [
    {
     "data": {
      "text/plain": [
       "Text(0,0.5,'FEV1-Value')"
      ]
     },
     "execution_count": 14,
     "metadata": {},
     "output_type": "execute_result"
    },
    {
     "data": {
      "image/png": "[encoded data removed]",
      "text/plain": [
       "<matplotlib.figure.Figure at 0x226cfd50780>"
      ]
     },
     "metadata": {},
     "output_type": "display_data"
    }
   ],
   "source": [
    "#Exercise 2\n",
    "smokers, nonsmokers = getFEV1(data)\n",
    "labels = ['Smokers', 'Nonsmokers']\n",
    "VALUE = [smokers, nonsmokers]\n",
    "plt.boxplot(VALUE, labels=labels)\n",
    "plt.title('Boxplot over FEV1-Value for smokers and nonsmokers')\n",
    "plt.ylabel('FEV1-Value')"
   ]
  },
  {
   "cell_type": "code",
   "execution_count": 15,
   "metadata": {
    "collapsed": true
   },
   "outputs": [],
   "source": [
    "#Exercise 3\n",
    "def hyptest(data):\n",
    "    print(\"Let X and Y be the random variable describing the FEV1-value og smokers and nonsmokers.\")\n",
    "    print(\"Now, my Null-hypothesis is that mean(X) = mean(Y).\")\n",
    "    print(\"That is, there is no significant difference between the FEV1-value of smokers vs. nonsmokers.\")\n",
    "    smokers, nonsmokers = getFEV1(data)\n",
    "    \n",
    "    std_X = (np.std(smokers) ** 2) / len(smokers)\n",
    "    std_Y = (np.std(nonsmokers) ** 2) / len(nonsmokers)\n",
    "    print(\"Standard deviation of smokers: \" + str(std_X) + \", nonsmokers: \" + str(std_Y) + \".\")\n",
    "    \n",
    "    t = (np.mean(smokers) - np.mean(nonsmokers))/np.sqrt(std_X + std_Y)\n",
    "    print(\"Value of t-statistic: \" + str(t) + \".\")\n",
    "    \n",
    "    dof_d = (std_X + std_Y) ** 2\n",
    "    std4_X = np.std(smokers) ** 4\n",
    "    std4_Y = np.std(nonsmokers) ** 4\n",
    "    X_d = std4_X / ((len(smokers) ** 2) * (len(smokers) -1))\n",
    "    Y_d = std4_Y / ((len(nonsmokers) ** 2) * (len(nonsmokers) -1))\n",
    "    \n",
    "    dof = np.floor(dof_d / (X_d + Y_d))\n",
    "    print(\"Number of freedom degrees: \" + str(dof) + \".\")\n",
    "    \n",
    "    p = scipy.stats.t.cdf(-abs(t),dof) * 2\n",
    "    print(\"P value: \" + str(p) + \".\")\n",
    "    \n",
    "    alpha = 0.05\n",
    "    if p < 0.05:\n",
    "        print(\"I reject my Null-hypothesis.\")\n",
    "    else:\n",
    "        print(\"I fail to reject my Null-hypothesis.\")\n",
    "        \n",
    "    return p < 0.05"
   ]
  },
  {
   "cell_type": "code",
   "execution_count": 16,
   "metadata": {},
   "outputs": [
    {
     "name": "stdout",
     "output_type": "stream",
     "text": [
      "Let X and Y be the random variable describing the FEV1-value og smokers and nonsmokers.\n",
      "Now, my Null-hypothesis is that mean(X) = mean(Y).\n",
      "That is, there is no significant difference between the FEV1-value of smokers vs. nonsmokers.\n",
      "Standard deviation of smokers: 0.00852039899499, nonsmokers: 0.00122607587324.\n",
      "Value of t-statistic: 7.199031861.\n",
      "Number of freedom degrees: 83.0.\n",
      "P value: 2.49456448153e-10.\n",
      "I reject my Null-hypothesis.\n"
     ]
    },
    {
     "data": {
      "text/plain": [
       "True"
      ]
     },
     "execution_count": 16,
     "metadata": {},
     "output_type": "execute_result"
    }
   ],
   "source": [
    "hyptest(data)"
   ]
  },
  {
   "cell_type": "code",
   "execution_count": 17,
   "metadata": {},
   "outputs": [
    {
     "data": {
      "text/plain": [
       "0.75645898998959993"
      ]
     },
     "execution_count": 17,
     "metadata": {},
     "output_type": "execute_result"
    },
    {
     "data": {
      "image/png": "[encoded data removed]",
      "text/plain": [
       "<matplotlib.figure.Figure at 0x226cfdbcbe0>"
      ]
     },
     "metadata": {},
     "output_type": "display_data"
    }
   ],
   "source": [
    "#Exercise 4\n",
    "age = data[:,0]\n",
    "FEV1 = data[:,1]\n",
    "\n",
    "plt.scatter(FEV1, age)\n",
    "plt.title('2 dimensional scatterplot over the FEV1-values vs Age')\n",
    "plt.ylabel('Age')\n",
    "plt.xlabel('FEV1-Value')\n",
    "\n",
    "\n",
    "# all functions used from Joel Grus, Data Science from Scratch (52-63)\n",
    "# Only the corr-function is modified a bit, to not work on nonequally sized vectors\n",
    "def dot(v, w):\n",
    "    return sum(v_i * w_i for v_i, w_i in zip(v, w))\n",
    "def sum_of_squares(v):\n",
    "    return dot(v, v)\n",
    "def mean(x):\n",
    "    return sum(x) / len(x)\n",
    "def de_mean(x):\n",
    "    x_bar = mean(x)\n",
    "    return [x_i - x_bar for x_i in x]\n",
    "def variance(x):\n",
    "    n = len(x)\n",
    "    deviations = de_mean(x)\n",
    "    return sum_of_squares(deviations) / (n - 1)\n",
    "def standard_deviation(x):\n",
    "    return np.sqrt(variance(x))\n",
    "def covariance(x, y):\n",
    "    n = len(x)\n",
    "    return dot(de_mean(x), de_mean(y)) / (n - 1)\n",
    "def corr(vector_x, vector_y):\n",
    "    if (len(vector_x) != len(vector_y)):\n",
    "        print(\"Not equally sized vectors\")\n",
    "    else:\n",
    "        stdev_x = standard_deviation(vector_x)\n",
    "        stdev_y = standard_deviation(vector_y)\n",
    "        if ((stdev_x > 0) and (stdev_y > 0)):\n",
    "            return covariance(vector_x, vector_y) / stdev_x / stdev_y \n",
    "        else:\n",
    "            return 0\n",
    "corr(FEV1,age)"
   ]
  },
  {
   "cell_type": "code",
   "execution_count": 18,
   "metadata": {},
   "outputs": [
    {
     "data": {
      "text/plain": [
       "<matplotlib.legend.Legend at 0x226cfbdda58>"
      ]
     },
     "execution_count": 18,
     "metadata": {},
     "output_type": "execute_result"
    },
    {
     "data": {
      "image/png": "[encoded data removed]",
      "text/plain": [
       "<matplotlib.figure.Figure at 0x226cfd42438>"
      ]
     },
     "metadata": {},
     "output_type": "display_data"
    }
   ],
   "source": [
    "#Exercise 5\n",
    "age_smokers = np.array([data[i,0] for i, x in enumerate(data[:,4]) if x == 1])\n",
    "age_nonsmokers = np.array([data[i,0] for i, x in enumerate(data[:,4]) if x == 0])\n",
    "\n",
    "plt.hist(age_nonsmokers, label='Age of nonsmokers')\n",
    "plt.hist(age_smokers, color='red', label='Age of smokers')\n",
    "plt.xlabel('Age')\n",
    "plt.ylabel('Count')\n",
    "plt.title('Histogram over the age of nonsmokers')\n",
    "plt.legend()"
   ]
  },
  {
   "cell_type": "code",
   "execution_count": null,
   "metadata": {
    "collapsed": true
   },
   "outputs": [],
   "source": []
  }
 ],
 "metadata": {
  "kernelspec": {
   "display_name": "Python 3",
   "language": "python",
   "name": "python3"
  },
  "language_info": {
   "codemirror_mode": {
    "name": "ipython",
    "version": 3
   },
   "file_extension": ".py",
   "mimetype": "text/x-python",
   "name": "python",
   "nbconvert_exporter": "python",
   "pygments_lexer": "ipython3",
   "version": "3.6.3"
  }
 },
 "nbformat": 4,
 "nbformat_minor": 2
}
