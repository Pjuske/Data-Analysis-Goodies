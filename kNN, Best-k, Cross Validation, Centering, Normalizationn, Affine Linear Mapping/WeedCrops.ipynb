{
 "cells": [
  {
   "cell_type": "code",
   "execution_count": 25,
   "metadata": {
    "collapsed": true
   },
   "outputs": [],
   "source": [
    "from __future__ import division\n",
    "import numpy as np\n",
    "import matplotlib.pyplot as plt\n",
    "%matplotlib inline\n",
    "import scipy.stats\n",
    "\n",
    "traindata = np.loadtxt('IDSWeedCropTrain.csv', delimiter=',')\n",
    "testdata = np.loadtxt('IDSWeedCropTest.csv', delimiter=',')\n",
    "train_data = traindata[:,:-1]\n",
    "train_labels = traindata[:,-1]\n",
    "test_data = testdata[:,:-1]\n",
    "test_labels = testdata[:,-1]"
   ]
  },
  {
   "cell_type": "code",
   "execution_count": 26,
   "metadata": {},
   "outputs": [
    {
     "name": "stdout",
     "output_type": "stream",
     "text": [
      "Train accuracy: 1.0\n",
      "Test accuracy: 0.945993031358885\n"
     ]
    }
   ],
   "source": [
    "#Exercise 1\n",
    "from sklearn.neighbors import KNeighborsClassifier\n",
    "\n",
    "#Training the model\n",
    "kNN = KNeighborsClassifier(n_neighbors=1)\n",
    "kNN.fit(train_data,train_labels)\n",
    "\n",
    "#Predicting test and training\n",
    "test_prediction = kNN.predict(test_data)\n",
    "train_prediction = kNN.predict(train_data)\n",
    "\n",
    "#Calculating accuracy\n",
    "def classification_error(prediction, labels):\n",
    "    if len(prediction) != len(labels):\n",
    "        print(\"Prediction and labels should have the same dimension.\")\n",
    "        return 0\n",
    "        \n",
    "    acc = 0\n",
    "    for i in range(len(prediction)):\n",
    "        if prediction[i] == labels[i]:\n",
    "            acc+=1\n",
    "    return acc/len(prediction)\n",
    "\n",
    "print(\"Train accuracy: \" + str(classification_error(train_prediction, train_labels)))\n",
    "print(\"Test accuracy: \" + str(classification_error(test_prediction, test_labels)))"
   ]
  },
  {
   "cell_type": "code",
   "execution_count": 27,
   "metadata": {},
   "outputs": [
    {
     "name": "stdout",
     "output_type": "stream",
     "text": [
      "Best k is: k=3\n"
     ]
    }
   ],
   "source": [
    "#Exercise 2\n",
    "from sklearn.model_selection import KFold\n",
    "\n",
    "def cross_validater(classifier, train_data):\n",
    "    error_rates = []\n",
    "    cv = KFold(n_splits=5)\n",
    "    for train, test in cv.split(train_data):\n",
    "        traindataCV, testdataCV, trainlabelsCV, testlabelsCV = train_data[train], train_data[test], train_labels[train], train_labels[test]\n",
    "        classifier.fit(traindataCV,trainlabelsCV)\n",
    "        test_prediction = classifier.predict(testdataCV)\n",
    "        error_rates.append(classification_error(test_prediction,testlabelsCV))\n",
    "    return np.mean(error_rates)\n",
    "\n",
    "def best_k(k_array, train_data):\n",
    "    k_accuracies = []\n",
    "    for i in k_array:\n",
    "        kNN = KNeighborsClassifier(n_neighbors=i)\n",
    "        k_accuracies.append(cross_validater(kNN, train_data))\n",
    "    best_accuracy = k_accuracies.index(max(k_accuracies))\n",
    "    return k_array[best_accuracy]\n",
    "\n",
    "print(\"Best k is: k=\" + str(best_k([1,3,5,7,9,11], train_data)))"
   ]
  },
  {
   "cell_type": "code",
   "execution_count": 28,
   "metadata": {},
   "outputs": [
    {
     "name": "stdout",
     "output_type": "stream",
     "text": [
      "New train accuracy: 0.971\n",
      "New test accuracy: 0.9494773519163763\n"
     ]
    }
   ],
   "source": [
    "#Exercise 3\n",
    "#Training the model with our best_k hyperparameter\n",
    "kNN = KNeighborsClassifier(n_neighbors=3)\n",
    "kNN.fit(train_data,train_labels)\n",
    "\n",
    "#Predicting test and train data\n",
    "test_prediction = kNN.predict(test_data)\n",
    "train_prediction = kNN.predict(train_data)\n",
    "\n",
    "print(\"New train accuracy: \" + str(classification_error(train_prediction, train_labels)))\n",
    "print(\"New test accuracy: \" + str(classification_error(test_prediction, test_labels)))"
   ]
  },
  {
   "cell_type": "code",
   "execution_count": 29,
   "metadata": {},
   "outputs": [
    {
     "name": "stdout",
     "output_type": "stream",
     "text": [
      "The transformed dataset now has mean: -6.5588560224e-18, variance: 1.0\n",
      "Best k is: k=3\n",
      "New train accuracy: 0.972\n",
      "New test accuracy: 0.9599303135888502\n"
     ]
    }
   ],
   "source": [
    "#Exercise 4\n",
    "from sklearn import preprocessing\n",
    "scaler = preprocessing.StandardScaler().fit(train_data)\n",
    "train_dataN = scaler.transform(train_data)\n",
    "test_dataN = scaler.transform(test_data)\n",
    "\n",
    "print(\"The transformed dataset now has mean: \" + str(np.mean(train_dataN)) + \", variance: \" + str(np.var(train_dataN)))\n",
    "\n",
    "best_k_n = best_k([1,3,5,7,9,11], train_dataN)\n",
    "print(\"Best k is: k=\" + str(best_k_n))\n",
    "\n",
    "#Training the model with our best_k hyperparameter\n",
    "kNN = KNeighborsClassifier(n_neighbors=3)\n",
    "kNN.fit(train_dataN,train_labels)\n",
    "\n",
    "#Predicting test and train data\n",
    "test_prediction = kNN.predict(test_dataN)\n",
    "train_prediction = kNN.predict(train_dataN)\n",
    "\n",
    "print(\"New train accuracy: \" + str(classification_error(train_prediction, train_labels)))\n",
    "print(\"New test accuracy: \" + str(classification_error(test_prediction, test_labels)))"
   ]
  }
 ],
 "metadata": {
  "kernelspec": {
   "display_name": "Python 3",
   "language": "python",
   "name": "python3"
  },
  "language_info": {
   "codemirror_mode": {
    "name": "ipython",
    "version": 3
   },
   "file_extension": ".py",
   "mimetype": "text/x-python",
   "name": "python",
   "nbconvert_exporter": "python",
   "pygments_lexer": "ipython3",
   "version": "3.6.3"
  }
 },
 "nbformat": 4,
 "nbformat_minor": 2
}
